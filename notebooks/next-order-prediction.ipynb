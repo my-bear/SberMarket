{
 "cells": [
  {
   "cell_type": "markdown",
   "id": "02ad4e26",
   "metadata": {
    "papermill": {
     "duration": 0.016066,
     "end_time": "2022-02-09T14:35:14.198586",
     "exception": false,
     "start_time": "2022-02-09T14:35:14.182520",
     "status": "completed"
    },
    "tags": []
   },
   "source": [
    "### Next purchase pridiction\n",
    "\n",
    "This is a competition notebook for [SberMarket Inclass challenge](https://www.kaggle.com/c/sbermarket-internship-competition).\n",
    "\n",
    "The dataset is the purchase history of twenty thousand customers for a couple of years. The data contains statistics for each purchase (without specifying the quantity of purchased goods), there are only the list of purchased categories (a total of 881 categories).\n",
    "\n",
    "The challenge is to predict the next order, **regardless of the time of the next order** and regardless of the number of purchased items of each category.<br>\n",
    "\n",
    "Evaluation metric is F1"
   ]
  },
  {
   "cell_type": "markdown",
   "id": "e58e76a6",
   "metadata": {
    "papermill": {
     "duration": 0.014758,
     "end_time": "2022-02-09T14:35:14.228809",
     "exception": false,
     "start_time": "2022-02-09T14:35:14.214051",
     "status": "completed"
    },
    "tags": []
   },
   "source": [
    "In this kernel I will demonstrate a fairly simple way of solving using the linear regression assisted by [LightAutoML](https://github.com/sberbank-ai-lab/LightAutoML) and feature engineering.\n",
    "\n",
    "#### Pipeline\n",
    "\n",
    "1. Training dataset creation and feature engineering\n",
    "1. Model training\n",
    "1. Test dataset creation\n",
    "1. Preliminary predictions\n",
    "1. Optimal probability threshold\n",
    "1. Final predictions and submit"
   ]
  },
  {
   "cell_type": "code",
   "execution_count": 7,
   "id": "610b3c9c",
   "metadata": {
    "_cell_guid": "b1076dfc-b9ad-4769-8c92-a6c4dae69d19",
    "_kg_hide-output": false,
    "_uuid": "8f2839f25d086af736a60e9eeb907d3b93b6e0e5",
    "execution": {
     "iopub.execute_input": "2022-02-09T14:35:14.263361Z",
     "iopub.status.busy": "2022-02-09T14:35:14.262179Z",
     "iopub.status.idle": "2022-02-09T14:35:15.362374Z",
     "shell.execute_reply": "2022-02-09T14:35:15.361568Z"
    },
    "papermill": {
     "duration": 1.118739,
     "end_time": "2022-02-09T14:35:15.362575",
     "exception": false,
     "start_time": "2022-02-09T14:35:14.243836",
     "status": "completed"
    },
    "scrolled": true,
    "tags": []
   },
   "outputs": [],
   "source": [
    "import os\n",
    "import numpy as np\n",
    "import pandas as pd\n",
    "import time\n",
    "from sklearn.metrics import f1_score\n",
    "from sklearn.model_selection import train_test_split"
   ]
  },
  {
   "cell_type": "code",
   "execution_count": 8,
   "id": "415f261e",
   "metadata": {},
   "outputs": [],
   "source": [
    "path_train = os.path.join('..','data','train.csv')\n",
    "path_submit = os.path.join('..','data','sample_submission.csv')"
   ]
  },
  {
   "cell_type": "code",
   "execution_count": 9,
   "id": "648e1f4e",
   "metadata": {
    "execution": {
     "iopub.execute_input": "2022-02-09T14:35:15.396878Z",
     "iopub.status.busy": "2022-02-09T14:35:15.396209Z",
     "iopub.status.idle": "2022-02-09T14:35:18.380743Z",
     "shell.execute_reply": "2022-02-09T14:35:18.381274Z",
     "shell.execute_reply.started": "2022-02-09T12:22:52.037263Z"
    },
    "papermill": {
     "duration": 3.003276,
     "end_time": "2022-02-09T14:35:18.381469",
     "exception": false,
     "start_time": "2022-02-09T14:35:15.378193",
     "status": "completed"
    },
    "tags": []
   },
   "outputs": [],
   "source": [
    "raw = pd.read_csv(path_train)\n",
    "sub = pd.read_csv(path_submit)"
   ]
  },
  {
   "cell_type": "markdown",
   "id": "8098e71d",
   "metadata": {
    "papermill": {
     "duration": 0.015295,
     "end_time": "2022-02-09T14:35:18.413194",
     "exception": false,
     "start_time": "2022-02-09T14:35:18.397899",
     "status": "completed"
    },
    "tags": []
   },
   "source": [
    "#### 1. Training dataset creation and feature engineering"
   ]
  },
  {
   "cell_type": "markdown",
   "id": "dabe864d",
   "metadata": {
    "papermill": {
     "duration": 0.015702,
     "end_time": "2022-02-09T14:35:18.444199",
     "exception": false,
     "start_time": "2022-02-09T14:35:18.428497",
     "status": "completed"
    },
    "tags": []
   },
   "source": [
    "```order_number``` - order counter for each user<br>\n",
    "```user_id``` - user ID<br>\n",
    "```category``` - category<br>\n",
    "```ordered```  - purchase counter for each category for each user<br>\n",
    "```orders_total``` - total purchase counter for each user<br>\n",
    "```rating``` - average amount of each category in  customer's purchase<br>\n",
    "```total_ordered``` - purchase counter by all users<br>\n",
    "```id``` - user_id / category as in submission file<br>\n",
    "```target``` - target variable (the last known purchase)<br>"
   ]
  },
  {
   "cell_type": "code",
   "execution_count": 10,
   "id": "a53b634a",
   "metadata": {
    "execution": {
     "iopub.execute_input": "2022-02-09T14:35:18.489764Z",
     "iopub.status.busy": "2022-02-09T14:35:18.489034Z",
     "iopub.status.idle": "2022-02-09T14:36:33.689333Z",
     "shell.execute_reply": "2022-02-09T14:36:33.688735Z",
     "shell.execute_reply.started": "2022-02-09T12:22:53.393259Z"
    },
    "papermill": {
     "duration": 75.230078,
     "end_time": "2022-02-09T14:36:33.689481",
     "exception": false,
     "start_time": "2022-02-09T14:35:18.459403",
     "status": "completed"
    },
    "tags": []
   },
   "outputs": [
    {
     "name": "stdout",
     "output_type": "stream",
     "text": [
      "True\n",
      "CPU times: user 1min 51s, sys: 15.7 s, total: 2min 7s\n",
      "Wall time: 1min 42s\n"
     ]
    },
    {
     "data": {
      "text/html": [
       "<div>\n",
       "<style scoped>\n",
       "    .dataframe tbody tr th:only-of-type {\n",
       "        vertical-align: middle;\n",
       "    }\n",
       "\n",
       "    .dataframe tbody tr th {\n",
       "        vertical-align: top;\n",
       "    }\n",
       "\n",
       "    .dataframe thead th {\n",
       "        text-align: right;\n",
       "    }\n",
       "</style>\n",
       "<table border=\"1\" class=\"dataframe\">\n",
       "  <thead>\n",
       "    <tr style=\"text-align: right;\">\n",
       "      <th></th>\n",
       "      <th>user_id</th>\n",
       "      <th>category</th>\n",
       "      <th>ordered</th>\n",
       "      <th>orders_total</th>\n",
       "      <th>rating</th>\n",
       "      <th>id</th>\n",
       "      <th>target</th>\n",
       "      <th>total_ordered</th>\n",
       "    </tr>\n",
       "  </thead>\n",
       "  <tbody>\n",
       "    <tr>\n",
       "      <th>0</th>\n",
       "      <td>7</td>\n",
       "      <td>0</td>\n",
       "      <td>0</td>\n",
       "      <td>10</td>\n",
       "      <td>0.000000</td>\n",
       "      <td>7;0</td>\n",
       "      <td>1</td>\n",
       "      <td>12922</td>\n",
       "    </tr>\n",
       "    <tr>\n",
       "      <th>1</th>\n",
       "      <td>8</td>\n",
       "      <td>0</td>\n",
       "      <td>1</td>\n",
       "      <td>7</td>\n",
       "      <td>0.142857</td>\n",
       "      <td>8;0</td>\n",
       "      <td>0</td>\n",
       "      <td>12922</td>\n",
       "    </tr>\n",
       "    <tr>\n",
       "      <th>2</th>\n",
       "      <td>9</td>\n",
       "      <td>0</td>\n",
       "      <td>1</td>\n",
       "      <td>45</td>\n",
       "      <td>0.022222</td>\n",
       "      <td>9;0</td>\n",
       "      <td>0</td>\n",
       "      <td>12922</td>\n",
       "    </tr>\n",
       "    <tr>\n",
       "      <th>3</th>\n",
       "      <td>12</td>\n",
       "      <td>0</td>\n",
       "      <td>1</td>\n",
       "      <td>20</td>\n",
       "      <td>0.050000</td>\n",
       "      <td>12;0</td>\n",
       "      <td>1</td>\n",
       "      <td>12922</td>\n",
       "    </tr>\n",
       "    <tr>\n",
       "      <th>4</th>\n",
       "      <td>13</td>\n",
       "      <td>0</td>\n",
       "      <td>3</td>\n",
       "      <td>16</td>\n",
       "      <td>0.187500</td>\n",
       "      <td>13;0</td>\n",
       "      <td>0</td>\n",
       "      <td>12922</td>\n",
       "    </tr>\n",
       "    <tr>\n",
       "      <th>5</th>\n",
       "      <td>14</td>\n",
       "      <td>0</td>\n",
       "      <td>17</td>\n",
       "      <td>80</td>\n",
       "      <td>0.212500</td>\n",
       "      <td>14;0</td>\n",
       "      <td>0</td>\n",
       "      <td>12922</td>\n",
       "    </tr>\n",
       "    <tr>\n",
       "      <th>6</th>\n",
       "      <td>16</td>\n",
       "      <td>0</td>\n",
       "      <td>9</td>\n",
       "      <td>93</td>\n",
       "      <td>0.096774</td>\n",
       "      <td>16;0</td>\n",
       "      <td>0</td>\n",
       "      <td>12922</td>\n",
       "    </tr>\n",
       "    <tr>\n",
       "      <th>7</th>\n",
       "      <td>18</td>\n",
       "      <td>0</td>\n",
       "      <td>2</td>\n",
       "      <td>12</td>\n",
       "      <td>0.166667</td>\n",
       "      <td>18;0</td>\n",
       "      <td>0</td>\n",
       "      <td>12922</td>\n",
       "    </tr>\n",
       "    <tr>\n",
       "      <th>8</th>\n",
       "      <td>21</td>\n",
       "      <td>0</td>\n",
       "      <td>22</td>\n",
       "      <td>82</td>\n",
       "      <td>0.268293</td>\n",
       "      <td>21;0</td>\n",
       "      <td>0</td>\n",
       "      <td>12922</td>\n",
       "    </tr>\n",
       "    <tr>\n",
       "      <th>9</th>\n",
       "      <td>25</td>\n",
       "      <td>0</td>\n",
       "      <td>1</td>\n",
       "      <td>13</td>\n",
       "      <td>0.076923</td>\n",
       "      <td>25;0</td>\n",
       "      <td>0</td>\n",
       "      <td>12922</td>\n",
       "    </tr>\n",
       "    <tr>\n",
       "      <th>10</th>\n",
       "      <td>27</td>\n",
       "      <td>0</td>\n",
       "      <td>1</td>\n",
       "      <td>20</td>\n",
       "      <td>0.050000</td>\n",
       "      <td>27;0</td>\n",
       "      <td>0</td>\n",
       "      <td>12922</td>\n",
       "    </tr>\n",
       "    <tr>\n",
       "      <th>11</th>\n",
       "      <td>29</td>\n",
       "      <td>0</td>\n",
       "      <td>4</td>\n",
       "      <td>19</td>\n",
       "      <td>0.210526</td>\n",
       "      <td>29;0</td>\n",
       "      <td>1</td>\n",
       "      <td>12922</td>\n",
       "    </tr>\n",
       "    <tr>\n",
       "      <th>12</th>\n",
       "      <td>35</td>\n",
       "      <td>0</td>\n",
       "      <td>5</td>\n",
       "      <td>27</td>\n",
       "      <td>0.185185</td>\n",
       "      <td>35;0</td>\n",
       "      <td>0</td>\n",
       "      <td>12922</td>\n",
       "    </tr>\n",
       "    <tr>\n",
       "      <th>13</th>\n",
       "      <td>37</td>\n",
       "      <td>0</td>\n",
       "      <td>2</td>\n",
       "      <td>13</td>\n",
       "      <td>0.153846</td>\n",
       "      <td>37;0</td>\n",
       "      <td>0</td>\n",
       "      <td>12922</td>\n",
       "    </tr>\n",
       "    <tr>\n",
       "      <th>14</th>\n",
       "      <td>38</td>\n",
       "      <td>0</td>\n",
       "      <td>1</td>\n",
       "      <td>38</td>\n",
       "      <td>0.026316</td>\n",
       "      <td>38;0</td>\n",
       "      <td>0</td>\n",
       "      <td>12922</td>\n",
       "    </tr>\n",
       "    <tr>\n",
       "      <th>15</th>\n",
       "      <td>39</td>\n",
       "      <td>0</td>\n",
       "      <td>2</td>\n",
       "      <td>12</td>\n",
       "      <td>0.166667</td>\n",
       "      <td>39;0</td>\n",
       "      <td>1</td>\n",
       "      <td>12922</td>\n",
       "    </tr>\n",
       "    <tr>\n",
       "      <th>16</th>\n",
       "      <td>40</td>\n",
       "      <td>0</td>\n",
       "      <td>6</td>\n",
       "      <td>85</td>\n",
       "      <td>0.070588</td>\n",
       "      <td>40;0</td>\n",
       "      <td>0</td>\n",
       "      <td>12922</td>\n",
       "    </tr>\n",
       "    <tr>\n",
       "      <th>17</th>\n",
       "      <td>41</td>\n",
       "      <td>0</td>\n",
       "      <td>1</td>\n",
       "      <td>12</td>\n",
       "      <td>0.083333</td>\n",
       "      <td>41;0</td>\n",
       "      <td>0</td>\n",
       "      <td>12922</td>\n",
       "    </tr>\n",
       "    <tr>\n",
       "      <th>18</th>\n",
       "      <td>42</td>\n",
       "      <td>0</td>\n",
       "      <td>16</td>\n",
       "      <td>45</td>\n",
       "      <td>0.355556</td>\n",
       "      <td>42;0</td>\n",
       "      <td>0</td>\n",
       "      <td>12922</td>\n",
       "    </tr>\n",
       "    <tr>\n",
       "      <th>19</th>\n",
       "      <td>43</td>\n",
       "      <td>0</td>\n",
       "      <td>2</td>\n",
       "      <td>16</td>\n",
       "      <td>0.125000</td>\n",
       "      <td>43;0</td>\n",
       "      <td>1</td>\n",
       "      <td>12922</td>\n",
       "    </tr>\n",
       "  </tbody>\n",
       "</table>\n",
       "</div>"
      ],
      "text/plain": [
       "    user_id category  ordered  orders_total    rating    id  target  \\\n",
       "0         7        0        0            10  0.000000   7;0       1   \n",
       "1         8        0        1             7  0.142857   8;0       0   \n",
       "2         9        0        1            45  0.022222   9;0       0   \n",
       "3        12        0        1            20  0.050000  12;0       1   \n",
       "4        13        0        3            16  0.187500  13;0       0   \n",
       "5        14        0       17            80  0.212500  14;0       0   \n",
       "6        16        0        9            93  0.096774  16;0       0   \n",
       "7        18        0        2            12  0.166667  18;0       0   \n",
       "8        21        0       22            82  0.268293  21;0       0   \n",
       "9        25        0        1            13  0.076923  25;0       0   \n",
       "10       27        0        1            20  0.050000  27;0       0   \n",
       "11       29        0        4            19  0.210526  29;0       1   \n",
       "12       35        0        5            27  0.185185  35;0       0   \n",
       "13       37        0        2            13  0.153846  37;0       0   \n",
       "14       38        0        1            38  0.026316  38;0       0   \n",
       "15       39        0        2            12  0.166667  39;0       1   \n",
       "16       40        0        6            85  0.070588  40;0       0   \n",
       "17       41        0        1            12  0.083333  41;0       0   \n",
       "18       42        0       16            45  0.355556  42;0       0   \n",
       "19       43        0        2            16  0.125000  43;0       1   \n",
       "\n",
       "    total_ordered  \n",
       "0           12922  \n",
       "1           12922  \n",
       "2           12922  \n",
       "3           12922  \n",
       "4           12922  \n",
       "5           12922  \n",
       "6           12922  \n",
       "7           12922  \n",
       "8           12922  \n",
       "9           12922  \n",
       "10          12922  \n",
       "11          12922  \n",
       "12          12922  \n",
       "13          12922  \n",
       "14          12922  \n",
       "15          12922  \n",
       "16          12922  \n",
       "17          12922  \n",
       "18          12922  \n",
       "19          12922  "
      ]
     },
     "execution_count": 10,
     "metadata": {},
     "output_type": "execute_result"
    }
   ],
   "source": [
    "%%time\n",
    "# sparse matrix for temporary use\n",
    "train_raw = pd.get_dummies(raw, columns = ['cart'], prefix='', prefix_sep='', dtype='bool')\n",
    "train_raw = train_raw.groupby(['user_id', 'order_completed_at']).any().reset_index()\n",
    "\n",
    "# order counter for each use\n",
    "train_raw['order_number'] = train_raw.groupby(['user_id']).cumcount()\n",
    "train_raw = train_raw.drop('order_completed_at', axis=1)\n",
    "\n",
    "# separate datasets by the last purchase\n",
    "last_order = train_raw.groupby(['user_id'])['order_number'].transform(max) == train_raw['order_number']\n",
    "train = train_raw[~last_order].groupby('user_id').sum().reset_index()\n",
    "valid = train_raw[last_order].reset_index(drop=True)\n",
    "\n",
    "#purchase counter for each category for each user\n",
    "train_melt = pd.melt(train, id_vars=['user_id'], var_name='category', value_name='ordered')\n",
    "valid_melt = pd.melt(valid, id_vars=['user_id'], var_name='category', value_name='target')\n",
    "\n",
    "Train = train_melt.copy()\n",
    "\n",
    "# total purchase counter for each user\n",
    "order_number = valid[['user_id', 'order_number']].set_index('user_id').squeeze()\n",
    "Train['orders_total']= Train['user_id'].map(order_number)\n",
    "\n",
    "#average amount of each category in  customer's purchase\n",
    "Train['rating'] = Train['ordered'] / Train['orders_total']\n",
    "\n",
    "# user_id / category as in submission file\n",
    "Train['id'] = Train['user_id'].astype(str) + ';' + Train['category']\n",
    "\n",
    "# target variable (the last known purchase)\n",
    "Train['target'] = valid_melt['target'].astype(int)\n",
    "\n",
    "#remove those users/categories who are not represented in the submission file\n",
    "Train = Train[Train.id.isin(sub.id.unique())].reset_index(drop=True)\n",
    "#Check\n",
    "print((Train.sort_values('id')['id'].values == Train.sort_values('id')['id'].values).all())\n",
    "\n",
    "#purchase counter by all user (for represetned users)\n",
    "total_ordered = Train.groupby('category')['ordered'].sum()\n",
    "Train['total_ordered'] = Train['category'].map(total_ordered)\n",
    "\n",
    "Train.head(20)"
   ]
  },
  {
   "cell_type": "code",
   "execution_count": 11,
   "id": "94a533fe",
   "metadata": {
    "execution": {
     "iopub.execute_input": "2022-02-09T14:36:33.728620Z",
     "iopub.status.busy": "2022-02-09T14:36:33.727938Z",
     "iopub.status.idle": "2022-02-09T14:36:33.937971Z",
     "shell.execute_reply": "2022-02-09T14:36:33.937384Z",
     "shell.execute_reply.started": "2022-02-09T12:38:13.531417Z"
    },
    "papermill": {
     "duration": 0.232473,
     "end_time": "2022-02-09T14:36:33.938127",
     "exception": false,
     "start_time": "2022-02-09T14:36:33.705654",
     "status": "completed"
    },
    "tags": []
   },
   "outputs": [],
   "source": [
    "Train_set, Valid_set = train_test_split(Train, test_size = 0.2,\n",
    "                                        stratify = None, random_state = 17)"
   ]
  },
  {
   "cell_type": "markdown",
   "id": "042e5c52",
   "metadata": {
    "papermill": {
     "duration": 0.016061,
     "end_time": "2022-02-09T14:36:33.970346",
     "exception": false,
     "start_time": "2022-02-09T14:36:33.954285",
     "status": "completed"
    },
    "tags": []
   },
   "source": [
    "#### 2. Model training"
   ]
  },
  {
   "cell_type": "code",
   "execution_count": 12,
   "id": "3a1e1d2c",
   "metadata": {
    "_kg_hide-output": true,
    "execution": {
     "iopub.execute_input": "2022-02-09T14:36:34.008640Z",
     "iopub.status.busy": "2022-02-09T14:36:34.007736Z",
     "iopub.status.idle": "2022-02-09T14:37:53.704489Z",
     "shell.execute_reply": "2022-02-09T14:37:53.705065Z"
    },
    "papermill": {
     "duration": 79.718922,
     "end_time": "2022-02-09T14:37:53.705303",
     "exception": false,
     "start_time": "2022-02-09T14:36:33.986381",
     "status": "completed"
    },
    "tags": []
   },
   "outputs": [],
   "source": [
    "# brew install libomp\n",
    "# !pip install -U lightautoml\n",
    "from lightautoml.automl.presets.tabular_presets import TabularAutoML\n",
    "from lightautoml.tasks import Task"
   ]
  },
  {
   "cell_type": "code",
   "execution_count": null,
   "id": "8c636c72",
   "metadata": {},
   "outputs": [],
   "source": []
  },
  {
   "cell_type": "code",
   "execution_count": 13,
   "id": "6a3c9090",
   "metadata": {
    "execution": {
     "iopub.execute_input": "2022-02-09T14:37:54.464985Z",
     "iopub.status.busy": "2022-02-09T14:37:54.463917Z",
     "iopub.status.idle": "2022-02-09T14:38:18.739274Z",
     "shell.execute_reply": "2022-02-09T14:38:18.739772Z",
     "shell.execute_reply.started": "2022-02-09T13:31:10.977021Z"
    },
    "papermill": {
     "duration": 24.654933,
     "end_time": "2022-02-09T14:38:18.739953",
     "exception": false,
     "start_time": "2022-02-09T14:37:54.085020",
     "status": "completed"
    },
    "tags": []
   },
   "outputs": [
    {
     "name": "stdout",
     "output_type": "stream",
     "text": [
      "Score 0.57657\n",
      "Score on out of folds validation 0.57507\n",
      "CPU times: user 23.3 s, sys: 2.45 s, total: 25.8 s\n",
      "Wall time: 20.7 s\n"
     ]
    }
   ],
   "source": [
    "%%time \n",
    "def f1 (real, pred, **kwargs):\n",
    "    return f1_score(real, (pred > 0.5).astype(int), **kwargs)\n",
    "\n",
    "roles = {'target': 'target', 'drop': ['user_id', 'category', 'id']}\n",
    "task = Task('binary', metric = f1)\n",
    "\n",
    "automl = TabularAutoML(task = task, \n",
    "                       timeout = 300,\n",
    "                       cpu_limit = 4,\n",
    "                       reader_params = {'n_jobs': 4, 'cv': 5, 'random_state': 17},\n",
    "                       general_params = {'use_algos': [['linear_l2']]},\n",
    "                      )\n",
    "train_pred = automl.fit_predict(Train_set, roles = roles)\n",
    "print('Score', \"%.5f\" % f1(Train_set.target, train_pred.data))\n",
    "\n",
    "valid_pred = automl.predict(Valid_set)\n",
    "print('Score on out of folds validation', \"%.5f\" % f1(Valid_set.target, valid_pred.data))"
   ]
  },
  {
   "cell_type": "markdown",
   "id": "9bb8fab8",
   "metadata": {
    "papermill": {
     "duration": 0.365263,
     "end_time": "2022-02-09T14:38:19.474496",
     "exception": false,
     "start_time": "2022-02-09T14:38:19.109233",
     "status": "completed"
    },
    "tags": []
   },
   "source": [
    "Check possible probability threshold level"
   ]
  },
  {
   "cell_type": "code",
   "execution_count": 14,
   "id": "7e1fec5f",
   "metadata": {
    "execution": {
     "iopub.execute_input": "2022-02-09T14:38:20.216728Z",
     "iopub.status.busy": "2022-02-09T14:38:20.215579Z",
     "iopub.status.idle": "2022-02-09T14:38:25.478882Z",
     "shell.execute_reply": "2022-02-09T14:38:25.478043Z",
     "shell.execute_reply.started": "2022-02-09T13:31:37.291592Z"
    },
    "papermill": {
     "duration": 5.638156,
     "end_time": "2022-02-09T14:38:25.479080",
     "exception": false,
     "start_time": "2022-02-09T14:38:19.840924",
     "status": "completed"
    },
    "tags": []
   },
   "outputs": [
    {
     "name": "stdout",
     "output_type": "stream",
     "text": [
      "At i = 0.29 score is : 0.61853\n"
     ]
    }
   ],
   "source": [
    "best_score = 0\n",
    "for i in np.arange(0.01, 1.0, 0.01):\n",
    "    score = f1 = f1_score(Valid_set.target, (valid_pred.data > i).astype(int))\n",
    "    if score > best_score:\n",
    "        best_score = score\n",
    "        proba_split = i\n",
    "\n",
    "print('At i =', \"%.2f\" % proba_split,'score is : ' \"%.5f\" % best_score)"
   ]
  },
  {
   "cell_type": "markdown",
   "id": "68de187b",
   "metadata": {
    "papermill": {
     "duration": 0.365017,
     "end_time": "2022-02-09T14:38:26.238683",
     "exception": false,
     "start_time": "2022-02-09T14:38:25.873666",
     "status": "completed"
    },
    "tags": []
   },
   "source": [
    "#### 3. Test dataset creation"
   ]
  },
  {
   "cell_type": "code",
   "execution_count": 15,
   "id": "bdb6b791",
   "metadata": {
    "execution": {
     "iopub.execute_input": "2022-02-09T14:38:26.975677Z",
     "iopub.status.busy": "2022-02-09T14:38:26.974439Z",
     "iopub.status.idle": "2022-02-09T14:38:27.258251Z",
     "shell.execute_reply": "2022-02-09T14:38:27.257582Z",
     "shell.execute_reply.started": "2022-02-09T13:31:45.571978Z"
    },
    "papermill": {
     "duration": 0.653388,
     "end_time": "2022-02-09T14:38:27.258391",
     "exception": false,
     "start_time": "2022-02-09T14:38:26.605003",
     "status": "completed"
    },
    "tags": []
   },
   "outputs": [
    {
     "data": {
      "text/html": [
       "<div>\n",
       "<style scoped>\n",
       "    .dataframe tbody tr th:only-of-type {\n",
       "        vertical-align: middle;\n",
       "    }\n",
       "\n",
       "    .dataframe tbody tr th {\n",
       "        vertical-align: top;\n",
       "    }\n",
       "\n",
       "    .dataframe thead th {\n",
       "        text-align: right;\n",
       "    }\n",
       "</style>\n",
       "<table border=\"1\" class=\"dataframe\">\n",
       "  <thead>\n",
       "    <tr style=\"text-align: right;\">\n",
       "      <th></th>\n",
       "      <th>user_id</th>\n",
       "      <th>category</th>\n",
       "      <th>ordered</th>\n",
       "      <th>orders_total</th>\n",
       "      <th>rating</th>\n",
       "      <th>id</th>\n",
       "      <th>total_ordered</th>\n",
       "    </tr>\n",
       "  </thead>\n",
       "  <tbody>\n",
       "    <tr>\n",
       "      <th>0</th>\n",
       "      <td>7</td>\n",
       "      <td>0</td>\n",
       "      <td>1</td>\n",
       "      <td>11</td>\n",
       "      <td>0.090909</td>\n",
       "      <td>7;0</td>\n",
       "      <td>14190</td>\n",
       "    </tr>\n",
       "    <tr>\n",
       "      <th>1</th>\n",
       "      <td>8</td>\n",
       "      <td>0</td>\n",
       "      <td>1</td>\n",
       "      <td>8</td>\n",
       "      <td>0.125000</td>\n",
       "      <td>8;0</td>\n",
       "      <td>14190</td>\n",
       "    </tr>\n",
       "    <tr>\n",
       "      <th>2</th>\n",
       "      <td>9</td>\n",
       "      <td>0</td>\n",
       "      <td>1</td>\n",
       "      <td>46</td>\n",
       "      <td>0.021739</td>\n",
       "      <td>9;0</td>\n",
       "      <td>14190</td>\n",
       "    </tr>\n",
       "  </tbody>\n",
       "</table>\n",
       "</div>"
      ],
      "text/plain": [
       "   user_id category  ordered  orders_total    rating   id  total_ordered\n",
       "0        7        0        1            11  0.090909  7;0          14190\n",
       "1        8        0        1             8  0.125000  8;0          14190\n",
       "2        9        0        1            46  0.021739  9;0          14190"
      ]
     },
     "execution_count": 15,
     "metadata": {},
     "output_type": "execute_result"
    }
   ],
   "source": [
    "Test = Train.copy()\n",
    "\n",
    "#increment counter\n",
    "Test['orders_total'] += 1 \n",
    "\n",
    "#add last purchase\n",
    "Test['ordered'] = Test['ordered'] + Test['target']\n",
    "\n",
    "#recalculate including last order\n",
    "test_total_ordered = Test.groupby('category')['ordered'].sum()\n",
    "Test['total_ordered'] = Test['category'].map(test_total_ordered)\n",
    "\n",
    "#recalculate including last order\n",
    "Test['rating'] = Test['ordered'] / Test['orders_total']\n",
    "\n",
    "Test = Test.drop('target', axis=1)\n",
    "Test.head(3)"
   ]
  },
  {
   "cell_type": "markdown",
   "id": "1d13d9c1",
   "metadata": {
    "execution": {
     "iopub.execute_input": "2022-02-09T12:24:35.051656Z",
     "iopub.status.busy": "2022-02-09T12:24:35.051407Z",
     "iopub.status.idle": "2022-02-09T12:24:35.061564Z",
     "shell.execute_reply": "2022-02-09T12:24:35.060787Z",
     "shell.execute_reply.started": "2022-02-09T12:24:35.051629Z"
    },
    "papermill": {
     "duration": 0.368695,
     "end_time": "2022-02-09T14:38:27.993579",
     "exception": false,
     "start_time": "2022-02-09T14:38:27.624884",
     "status": "completed"
    },
    "tags": []
   },
   "source": [
    "#### 4. Preliminary predictions\n"
   ]
  },
  {
   "cell_type": "code",
   "execution_count": 16,
   "id": "812aedba",
   "metadata": {
    "execution": {
     "iopub.execute_input": "2022-02-09T14:38:28.747165Z",
     "iopub.status.busy": "2022-02-09T14:38:28.746065Z",
     "iopub.status.idle": "2022-02-09T14:38:31.803257Z",
     "shell.execute_reply": "2022-02-09T14:38:31.804312Z",
     "shell.execute_reply.started": "2022-02-09T13:31:47.687535Z"
    },
    "papermill": {
     "duration": 3.439009,
     "end_time": "2022-02-09T14:38:31.804528",
     "exception": false,
     "start_time": "2022-02-09T14:38:28.365519",
     "status": "completed"
    },
    "tags": []
   },
   "outputs": [
    {
     "name": "stdout",
     "output_type": "stream",
     "text": [
      "Train target mean: 0.23596\n",
      "Test target mean: 0.07531\n"
     ]
    }
   ],
   "source": [
    "predictions = automl.predict(Test)\n",
    "print('Train target mean:', \"%.5f\" % Train.target.mean())\n",
    "print('Test target mean:', \"%.5f\" % (predictions.data > 0.5).astype(int).mean())"
   ]
  },
  {
   "cell_type": "markdown",
   "id": "30a9e843",
   "metadata": {
    "papermill": {
     "duration": 0.362089,
     "end_time": "2022-02-09T14:38:32.560974",
     "exception": false,
     "start_time": "2022-02-09T14:38:32.198885",
     "status": "completed"
    },
    "tags": []
   },
   "source": [
    "#### 5. Optimal probability threshold\n",
    "Using a threshold probability level of 0.5, the average value of the predictions is less than the average value in the training set.<br>\n",
    "Based on the hypothesis that the total number of all purchases of all customers in one order is approximately equal, the optimal probability threshold value is selecting."
   ]
  },
  {
   "cell_type": "code",
   "execution_count": 17,
   "id": "ebb421bd",
   "metadata": {
    "execution": {
     "iopub.execute_input": "2022-02-09T14:38:33.311265Z",
     "iopub.status.busy": "2022-02-09T14:38:33.310542Z",
     "iopub.status.idle": "2022-02-09T14:38:33.419065Z",
     "shell.execute_reply": "2022-02-09T14:38:33.418413Z",
     "shell.execute_reply.started": "2022-02-09T13:31:51.866824Z"
    },
    "papermill": {
     "duration": 0.495838,
     "end_time": "2022-02-09T14:38:33.419222",
     "exception": false,
     "start_time": "2022-02-09T14:38:32.923384",
     "status": "completed"
    },
    "tags": []
   },
   "outputs": [
    {
     "name": "stdout",
     "output_type": "stream",
     "text": [
      "Threshold: 0.2450\n",
      "Train mean: 0.23596\n",
      "New Test mean: 0.23612\n"
     ]
    }
   ],
   "source": [
    "th = 0.5\n",
    "train_mean = Train.target.mean()\n",
    "test_mean = (predictions.data > th).astype(int).mean()\n",
    "\n",
    "while test_mean < train_mean:\n",
    "    th -= 0.005\n",
    "    test_mean = (predictions.data > th).astype(int).mean()\n",
    "    \n",
    "print('Threshold:', \"%.4f\" % th)\n",
    "print('Train mean:', \"%.5f\" % train_mean)\n",
    "print('New Test mean:', \"%.5f\" % test_mean)"
   ]
  },
  {
   "cell_type": "markdown",
   "id": "2da6c729",
   "metadata": {
    "papermill": {
     "duration": 0.382808,
     "end_time": "2022-02-09T14:38:34.189676",
     "exception": false,
     "start_time": "2022-02-09T14:38:33.806868",
     "status": "completed"
    },
    "tags": []
   },
   "source": [
    "#### 6. Final predictions and submit"
   ]
  },
  {
   "cell_type": "code",
   "execution_count": 18,
   "id": "4193f14b",
   "metadata": {
    "execution": {
     "iopub.execute_input": "2022-02-09T14:38:34.959055Z",
     "iopub.status.busy": "2022-02-09T14:38:34.957641Z",
     "iopub.status.idle": "2022-02-09T14:38:36.010017Z",
     "shell.execute_reply": "2022-02-09T14:38:36.010574Z",
     "shell.execute_reply.started": "2022-02-09T13:36:10.464888Z"
    },
    "papermill": {
     "duration": 1.449124,
     "end_time": "2022-02-09T14:38:36.010755",
     "exception": false,
     "start_time": "2022-02-09T14:38:34.561631",
     "status": "completed"
    },
    "tags": []
   },
   "outputs": [],
   "source": [
    "Test['target'] = (predictions.data > th).astype(int)\n",
    "submit = pd.merge(sub['id'], Test[['id', 'target']], on='id')\n",
    "#submit.to_csv('submission.csv', index = False)"
   ]
  },
  {
   "cell_type": "code",
   "execution_count": null,
   "id": "77f27e62",
   "metadata": {},
   "outputs": [],
   "source": []
  }
 ],
 "metadata": {
  "kernelspec": {
   "display_name": "Python 3",
   "language": "python",
   "name": "python3"
  },
  "language_info": {
   "codemirror_mode": {
    "name": "ipython",
    "version": 3
   },
   "file_extension": ".py",
   "mimetype": "text/x-python",
   "name": "python",
   "nbconvert_exporter": "python",
   "pygments_lexer": "ipython3",
   "version": "3.8.8"
  },
  "papermill": {
   "default_parameters": {},
   "duration": 214.008451,
   "end_time": "2022-02-09T14:38:38.612267",
   "environment_variables": {},
   "exception": null,
   "input_path": "__notebook__.ipynb",
   "output_path": "__notebook__.ipynb",
   "parameters": {},
   "start_time": "2022-02-09T14:35:04.603816",
   "version": "2.3.3"
  }
 },
 "nbformat": 4,
 "nbformat_minor": 5
}
