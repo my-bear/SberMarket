{
 "cells": [
  {
   "cell_type": "code",
   "execution_count": null,
   "id": "4bd8c3a1",
   "metadata": {},
   "outputs": [],
   "source": []
  },
  {
   "cell_type": "markdown",
   "id": "36a41513",
   "metadata": {
    "papermill": {
     "duration": 0.033751,
     "end_time": "2022-01-26T14:47:33.827484",
     "exception": false,
     "start_time": "2022-01-26T14:47:33.793733",
     "status": "completed"
    },
    "tags": []
   },
   "source": [
    "# **SberMarket Competition**"
   ]
  },
  {
   "cell_type": "markdown",
   "id": "8481b0bf",
   "metadata": {
    "papermill": {
     "duration": 0.030484,
     "end_time": "2022-01-26T14:47:33.889868",
     "exception": false,
     "start_time": "2022-01-26T14:47:33.859384",
     "status": "completed"
    },
    "tags": []
   },
   "source": [
    "Сервисы доставки еды уже давно перестали быть просто курьерами, которые привозят заказ. Индустрия e-grocery стремительно идет к аккумулированию и использованию больших данных, чтобы знать о своих пользователях больше и предоставлять более качественные и персонализированные услуги. Одним из шагов к такой персонализации может быть разработка модели, которая понимает привычки и нужды пользователя, и, к примеру, может угадать, что и когда пользователь захочет заказать в следующий раз.\n",
    "\n",
    "Такая модель, будучи разработанной, может принести значительную ценность для клиента - сэкономить время при сборке корзины, помочь ничего не забыть в заказе, убрать необходимость планировать закупки и следить за заканчивающимися запасами продуктов.\n",
    "\n",
    "В данном соревновании участникам предлагается решить задачу предсказания следующего заказа пользователя (безотносительно конкретного момента времени, когда этот заказ произойдет). Заказ пользователя состоит из списка уникальных категорий товаров, вне зависимости от того, сколько продуктов каждой категории он взял.\n"
   ]
  },
  {
   "cell_type": "markdown",
   "id": "70620071",
   "metadata": {
    "papermill": {
     "duration": 0.030409,
     "end_time": "2022-01-26T14:47:33.951271",
     "exception": false,
     "start_time": "2022-01-26T14:47:33.920862",
     "status": "completed"
    },
    "tags": []
   },
   "source": [
    "Импортируем все необходимые библиотеки.\n",
    "Для анализа и подготовки данных понадобятся Numpy и Pandas. \n",
    "Для предикта будем использовать модель LightFM. При обучении на вход этой модели подается разреженная матрица, поэтому необходима функция coo_matrix из библиотеки scipy."
   ]
  },
  {
   "cell_type": "code",
   "execution_count": 1,
   "id": "77d29a8f",
   "metadata": {
    "_cell_guid": "b1076dfc-b9ad-4769-8c92-a6c4dae69d19",
    "_uuid": "8f2839f25d086af736a60e9eeb907d3b93b6e0e5",
    "execution": {
     "iopub.execute_input": "2022-01-26T14:47:34.017954Z",
     "iopub.status.busy": "2022-01-26T14:47:34.016718Z",
     "iopub.status.idle": "2022-01-26T14:47:34.138345Z",
     "shell.execute_reply": "2022-01-26T14:47:34.137590Z",
     "shell.execute_reply.started": "2022-01-26T14:23:53.233189Z"
    },
    "papermill": {
     "duration": 0.156443,
     "end_time": "2022-01-26T14:47:34.138554",
     "exception": false,
     "start_time": "2022-01-26T14:47:33.982111",
     "status": "completed"
    },
    "tags": []
   },
   "outputs": [
    {
     "name": "stderr",
     "output_type": "stream",
     "text": [
      "/opt/anaconda3/lib/python3.8/site-packages/lightfm/_lightfm_fast.py:9: UserWarning: LightFM was compiled without OpenMP support. Only a single thread will be used.\n",
      "  warnings.warn(\n"
     ]
    }
   ],
   "source": [
    "import numpy as np\n",
    "import pandas as pd \n",
    "import time\n",
    "import os\n",
    "from lightfm import LightFM\n",
    "from lightfm.evaluation import auc_score\n",
    "import matplotlib.pyplot as plt\n",
    "from scipy import sparse\n",
    "from scipy.sparse import coo_matrix\n",
    "\n",
    "import warnings                                  \n",
    "warnings.filterwarnings('ignore')"
   ]
  },
  {
   "cell_type": "markdown",
   "id": "f4670a92",
   "metadata": {
    "papermill": {
     "duration": 0.031418,
     "end_time": "2022-01-26T14:47:34.201544",
     "exception": false,
     "start_time": "2022-01-26T14:47:34.170126",
     "status": "completed"
    },
    "tags": []
   },
   "source": [
    "Импортируем данные:"
   ]
  },
  {
   "cell_type": "code",
   "execution_count": 2,
   "id": "1f1641cb",
   "metadata": {},
   "outputs": [],
   "source": [
    "path_train = os.path.join('..','data','train.csv')\n",
    "path_submit = os.path.join('..','data','sample_submission.csv')"
   ]
  },
  {
   "cell_type": "code",
   "execution_count": 3,
   "id": "dc7241ce",
   "metadata": {
    "execution": {
     "iopub.execute_input": "2022-01-26T14:47:34.269607Z",
     "iopub.status.busy": "2022-01-26T14:47:34.268922Z",
     "iopub.status.idle": "2022-01-26T14:47:37.163325Z",
     "shell.execute_reply": "2022-01-26T14:47:37.162710Z",
     "shell.execute_reply.started": "2022-01-26T14:23:53.242340Z"
    },
    "papermill": {
     "duration": 2.929839,
     "end_time": "2022-01-26T14:47:37.163469",
     "exception": false,
     "start_time": "2022-01-26T14:47:34.233630",
     "status": "completed"
    },
    "tags": []
   },
   "outputs": [],
   "source": [
    "df = pd.read_csv(path_train, parse_dates=['order_completed_at'])\n",
    "submit_df = pd.read_csv(path_submit)"
   ]
  },
  {
   "cell_type": "markdown",
   "id": "9024c83c",
   "metadata": {
    "papermill": {
     "duration": 0.032132,
     "end_time": "2022-01-26T14:47:37.226889",
     "exception": false,
     "start_time": "2022-01-26T14:47:37.194757",
     "status": "completed"
    },
    "tags": []
   },
   "source": [
    "В качестве тренировочных данных представляется датасет с историей заказов 20000 пользователей вплоть до даты отсечки, которая разделяет тренировочные и тестовые данные по времени.\n",
    "\n",
    "train.csv:\n",
    "user_id - уникальный id пользователя\n",
    "order_completed_at - дата заказа\n",
    "cart - список уникальных категорий (category_id), из которых состоял заказ\n",
    "В качестве прогноза необходимо для каждой пары пользователь-категория из примера сабмита вернуть 1, если категория будет присутствовать в следующем заказе пользователя, или 0 в ином случае. Список категорий для каждого пользователя примере сабмита - это все категории, которые он когда-либо заказывал."
   ]
  },
  {
   "cell_type": "code",
   "execution_count": 4,
   "id": "a811e886",
   "metadata": {
    "execution": {
     "iopub.execute_input": "2022-01-26T14:47:37.297298Z",
     "iopub.status.busy": "2022-01-26T14:47:37.296638Z",
     "iopub.status.idle": "2022-01-26T14:47:37.310125Z",
     "shell.execute_reply": "2022-01-26T14:47:37.309623Z",
     "shell.execute_reply.started": "2022-01-26T14:23:55.382302Z"
    },
    "papermill": {
     "duration": 0.05271,
     "end_time": "2022-01-26T14:47:37.310271",
     "exception": false,
     "start_time": "2022-01-26T14:47:37.257561",
     "status": "completed"
    },
    "tags": []
   },
   "outputs": [
    {
     "data": {
      "text/html": [
       "<div>\n",
       "<style scoped>\n",
       "    .dataframe tbody tr th:only-of-type {\n",
       "        vertical-align: middle;\n",
       "    }\n",
       "\n",
       "    .dataframe tbody tr th {\n",
       "        vertical-align: top;\n",
       "    }\n",
       "\n",
       "    .dataframe thead th {\n",
       "        text-align: right;\n",
       "    }\n",
       "</style>\n",
       "<table border=\"1\" class=\"dataframe\">\n",
       "  <thead>\n",
       "    <tr style=\"text-align: right;\">\n",
       "      <th></th>\n",
       "      <th>user_id</th>\n",
       "      <th>order_completed_at</th>\n",
       "      <th>cart</th>\n",
       "    </tr>\n",
       "  </thead>\n",
       "  <tbody>\n",
       "    <tr>\n",
       "      <th>0</th>\n",
       "      <td>2</td>\n",
       "      <td>2015-03-22 09:25:46</td>\n",
       "      <td>399</td>\n",
       "    </tr>\n",
       "    <tr>\n",
       "      <th>1</th>\n",
       "      <td>2</td>\n",
       "      <td>2015-03-22 09:25:46</td>\n",
       "      <td>14</td>\n",
       "    </tr>\n",
       "    <tr>\n",
       "      <th>2</th>\n",
       "      <td>2</td>\n",
       "      <td>2015-03-22 09:25:46</td>\n",
       "      <td>198</td>\n",
       "    </tr>\n",
       "    <tr>\n",
       "      <th>3</th>\n",
       "      <td>2</td>\n",
       "      <td>2015-03-22 09:25:46</td>\n",
       "      <td>88</td>\n",
       "    </tr>\n",
       "    <tr>\n",
       "      <th>4</th>\n",
       "      <td>2</td>\n",
       "      <td>2015-03-22 09:25:46</td>\n",
       "      <td>157</td>\n",
       "    </tr>\n",
       "  </tbody>\n",
       "</table>\n",
       "</div>"
      ],
      "text/plain": [
       "   user_id  order_completed_at  cart\n",
       "0        2 2015-03-22 09:25:46   399\n",
       "1        2 2015-03-22 09:25:46    14\n",
       "2        2 2015-03-22 09:25:46   198\n",
       "3        2 2015-03-22 09:25:46    88\n",
       "4        2 2015-03-22 09:25:46   157"
      ]
     },
     "execution_count": 4,
     "metadata": {},
     "output_type": "execute_result"
    }
   ],
   "source": [
    "df.head()"
   ]
  },
  {
   "cell_type": "markdown",
   "id": "7abd29b0",
   "metadata": {
    "papermill": {
     "duration": 0.03099,
     "end_time": "2022-01-26T14:47:37.372893",
     "exception": false,
     "start_time": "2022-01-26T14:47:37.341903",
     "status": "completed"
    },
    "tags": []
   },
   "source": [
    "В сабмите 2 колонки: в первой находится комбинация ид юзера и категории товара, во второй должно быть число 1 или 0, в зависимости от того будет этот товар куплен или нет.sample_submission.csv:\n",
    "Пример сабмита. В тест входят не все пользователи из тренировочных данных, так как некоторые из них так ничего и не заказали после даты отсечки.\n",
    "\n",
    "id - идентификатор строки - состоит из user_id и category_id, разделенных точкой с запятой: f'{user_id};{category_id}'. Из-за особенностей проверяющей системы Kaggle InClass, использовать колонки user_id, category_id в качестве индекса отдельно невозможно\n",
    "target - 1 или 0 - будет ли данная категория присутствовать в следующем заказе пользователя"
   ]
  },
  {
   "cell_type": "code",
   "execution_count": 5,
   "id": "38548d66",
   "metadata": {
    "execution": {
     "iopub.execute_input": "2022-01-26T14:47:37.447458Z",
     "iopub.status.busy": "2022-01-26T14:47:37.446618Z",
     "iopub.status.idle": "2022-01-26T14:47:37.450932Z",
     "shell.execute_reply": "2022-01-26T14:47:37.450425Z",
     "shell.execute_reply.started": "2022-01-26T14:23:55.398472Z"
    },
    "papermill": {
     "duration": 0.046778,
     "end_time": "2022-01-26T14:47:37.451084",
     "exception": false,
     "start_time": "2022-01-26T14:47:37.404306",
     "status": "completed"
    },
    "tags": []
   },
   "outputs": [
    {
     "data": {
      "text/html": [
       "<div>\n",
       "<style scoped>\n",
       "    .dataframe tbody tr th:only-of-type {\n",
       "        vertical-align: middle;\n",
       "    }\n",
       "\n",
       "    .dataframe tbody tr th {\n",
       "        vertical-align: top;\n",
       "    }\n",
       "\n",
       "    .dataframe thead th {\n",
       "        text-align: right;\n",
       "    }\n",
       "</style>\n",
       "<table border=\"1\" class=\"dataframe\">\n",
       "  <thead>\n",
       "    <tr style=\"text-align: right;\">\n",
       "      <th></th>\n",
       "      <th>id</th>\n",
       "      <th>target</th>\n",
       "    </tr>\n",
       "  </thead>\n",
       "  <tbody>\n",
       "    <tr>\n",
       "      <th>0</th>\n",
       "      <td>0;133</td>\n",
       "      <td>0</td>\n",
       "    </tr>\n",
       "    <tr>\n",
       "      <th>1</th>\n",
       "      <td>0;5</td>\n",
       "      <td>1</td>\n",
       "    </tr>\n",
       "    <tr>\n",
       "      <th>2</th>\n",
       "      <td>0;10</td>\n",
       "      <td>0</td>\n",
       "    </tr>\n",
       "    <tr>\n",
       "      <th>3</th>\n",
       "      <td>0;396</td>\n",
       "      <td>1</td>\n",
       "    </tr>\n",
       "    <tr>\n",
       "      <th>4</th>\n",
       "      <td>0;14</td>\n",
       "      <td>0</td>\n",
       "    </tr>\n",
       "  </tbody>\n",
       "</table>\n",
       "</div>"
      ],
      "text/plain": [
       "      id  target\n",
       "0  0;133       0\n",
       "1    0;5       1\n",
       "2   0;10       0\n",
       "3  0;396       1\n",
       "4   0;14       0"
      ]
     },
     "execution_count": 5,
     "metadata": {},
     "output_type": "execute_result"
    }
   ],
   "source": [
    "submit_df.head()"
   ]
  },
  {
   "cell_type": "markdown",
   "id": "61d8a793",
   "metadata": {
    "papermill": {
     "duration": 0.033013,
     "end_time": "2022-01-26T14:47:37.516211",
     "exception": false,
     "start_time": "2022-01-26T14:47:37.483198",
     "status": "completed"
    },
    "tags": []
   },
   "source": [
    "Посмотрим, какие есть юзеры и категории товаров:"
   ]
  },
  {
   "cell_type": "code",
   "execution_count": 6,
   "id": "18198556",
   "metadata": {
    "execution": {
     "iopub.execute_input": "2022-01-26T14:47:37.590809Z",
     "iopub.status.busy": "2022-01-26T14:47:37.588761Z",
     "iopub.status.idle": "2022-01-26T14:47:38.969963Z",
     "shell.execute_reply": "2022-01-26T14:47:38.970922Z",
     "shell.execute_reply.started": "2022-01-26T14:23:55.413042Z"
    },
    "papermill": {
     "duration": 1.423122,
     "end_time": "2022-01-26T14:47:38.971185",
     "exception": false,
     "start_time": "2022-01-26T14:47:37.548063",
     "status": "completed"
    },
    "tags": []
   },
   "outputs": [
    {
     "name": "stdout",
     "output_type": "stream",
     "text": [
      "Kоличество юзеров в тренировочном датафрейме 20000\n",
      "Kоличество юзеров в сабмит датафрейме 13036\n"
     ]
    }
   ],
   "source": [
    "# в тренировочном датафрейме количество юзеров следущее:\n",
    "print('Kоличество юзеров в тренировочном датафрейме', df.user_id.nunique())\n",
    "# в сабмите:\n",
    "users = []\n",
    "carts = []\n",
    "for row in submit_df.id.values:\n",
    "    user, cart = row.split(';')\n",
    "    users.append(int(user))\n",
    "    carts.append(int(cart))\n",
    "\n",
    "print('Kоличество юзеров в сабмит датафрейме', len(set(users)))"
   ]
  },
  {
   "cell_type": "code",
   "execution_count": 7,
   "id": "7131b07e",
   "metadata": {
    "execution": {
     "iopub.execute_input": "2022-01-26T14:47:39.042860Z",
     "iopub.status.busy": "2022-01-26T14:47:39.042179Z",
     "iopub.status.idle": "2022-01-26T14:47:40.421872Z",
     "shell.execute_reply": "2022-01-26T14:47:40.422362Z",
     "shell.execute_reply.started": "2022-01-26T14:23:56.839159Z"
    },
    "papermill": {
     "duration": 1.417349,
     "end_time": "2022-01-26T14:47:40.422558",
     "exception": false,
     "start_time": "2022-01-26T14:47:39.005209",
     "status": "completed"
    },
    "tags": []
   },
   "outputs": [
    {
     "name": "stdout",
     "output_type": "stream",
     "text": [
      "Уникальных категорий товаров в тренировочной таблице 881\n",
      "Диапазон категорий в тренировочной таблице 0 ; 880\n",
      "Уникальных категорий товаров в сабмите 858\n",
      "Диапазон категорий в сабмите 0 ; 880\n"
     ]
    }
   ],
   "source": [
    "print('Уникальных категорий товаров в тренировочной таблице', df.cart.nunique())\n",
    "# Находятся они в диапазоне\n",
    "print('Диапазон категорий в тренировочной таблице', df.cart.min(), ';', df.cart.max())\n",
    "# Сделаем то же и для сабмит файла\n",
    "print('Уникальных категорий товаров в сабмите', len(set(carts)))\n",
    "# Находятся они в диапазоне\n",
    "print('Диапазон категорий в сабмите', min(carts), ';', max(carts))\n",
    "# категорий для предсказания меньше в сабмит файле"
   ]
  },
  {
   "cell_type": "code",
   "execution_count": 8,
   "id": "e0bf8285",
   "metadata": {
    "execution": {
     "iopub.execute_input": "2022-01-26T14:47:40.491587Z",
     "iopub.status.busy": "2022-01-26T14:47:40.490855Z",
     "iopub.status.idle": "2022-01-26T14:47:41.944845Z",
     "shell.execute_reply": "2022-01-26T14:47:41.944179Z",
     "shell.execute_reply.started": "2022-01-26T14:23:58.217181Z"
    },
    "papermill": {
     "duration": 1.489674,
     "end_time": "2022-01-26T14:47:41.944996",
     "exception": false,
     "start_time": "2022-01-26T14:47:40.455322",
     "status": "completed"
    },
    "tags": []
   },
   "outputs": [
    {
     "name": "stdout",
     "output_type": "stream",
     "text": [
      "Минимальное количество заказов клиента 3\n",
      "Максимальное количество заказов клиента 3508\n"
     ]
    }
   ],
   "source": [
    "user_order_counts = df.groupby('user_id').agg({'order_completed_at':'count'}).values\n",
    "print('Минимальное количество заказов клиента', user_order_counts.min()) \n",
    "print('Максимальное количество заказов клиента', user_order_counts.max())"
   ]
  },
  {
   "cell_type": "code",
   "execution_count": 9,
   "id": "3ecd7034",
   "metadata": {},
   "outputs": [
    {
     "data": {
      "image/png": "[encoded data removed]",
      "text/plain": [
       "<Figure size 936x432 with 1 Axes>"
      ]
     },
     "metadata": {
      "needs_background": "light"
     },
     "output_type": "display_data"
    }
   ],
   "source": [
    "#увеличим дефолтный размер графиков\n",
    "from pylab import rcParams\n",
    "rcParams['figure.figsize'] = 13,6\n",
    "\n",
    "plt.hist(df['cart'], bins=len(set(carts)), facecolor='g', alpha=0.75);\n",
    "plt.title('Распределение количества заказов по категориям');\n",
    "plt.xlabel('Cart');\n",
    "plt.ylabel('Count');\n",
    "plt.grid(True)\n",
    "plt.show()"
   ]
  },
  {
   "cell_type": "markdown",
   "id": "706f9c9e",
   "metadata": {
    "papermill": {
     "duration": 0.037038,
     "end_time": "2022-01-26T14:47:44.543716",
     "exception": false,
     "start_time": "2022-01-26T14:47:44.506678",
     "status": "completed"
    },
    "tags": []
   },
   "source": [
    "# **Формирование тренировочной и тестовой выборки.**"
   ]
  },
  {
   "cell_type": "markdown",
   "id": "d19df189",
   "metadata": {},
   "source": [
    "Для каждого пользователя и кода товара заводим идентификационный номер.\n",
    "Строим разряженную матрицу используя библиотеку sparse"
   ]
  },
  {
   "cell_type": "code",
   "execution_count": null,
   "id": "21810abf",
   "metadata": {},
   "outputs": [],
   "source": []
  },
  {
   "cell_type": "code",
   "execution_count": 23,
   "id": "b3539520",
   "metadata": {},
   "outputs": [
    {
     "name": "stdout",
     "output_type": "stream",
     "text": [
      "Количество записей в получившемся датафрейме: 2395657\n"
     ]
    },
    {
     "data": {
      "text/html": [
       "<div>\n",
       "<style scoped>\n",
       "    .dataframe tbody tr th:only-of-type {\n",
       "        vertical-align: middle;\n",
       "    }\n",
       "\n",
       "    .dataframe tbody tr th {\n",
       "        vertical-align: top;\n",
       "    }\n",
       "\n",
       "    .dataframe thead th {\n",
       "        text-align: right;\n",
       "    }\n",
       "</style>\n",
       "<table border=\"1\" class=\"dataframe\">\n",
       "  <thead>\n",
       "    <tr style=\"text-align: right;\">\n",
       "      <th></th>\n",
       "      <th>user_id</th>\n",
       "      <th>order_completed_at</th>\n",
       "      <th>cart</th>\n",
       "    </tr>\n",
       "  </thead>\n",
       "  <tbody>\n",
       "    <tr>\n",
       "      <th>16</th>\n",
       "      <td>3</td>\n",
       "      <td>2015-06-18 16:15:33</td>\n",
       "      <td>399</td>\n",
       "    </tr>\n",
       "    <tr>\n",
       "      <th>17</th>\n",
       "      <td>3</td>\n",
       "      <td>2015-07-04 14:05:22</td>\n",
       "      <td>399</td>\n",
       "    </tr>\n",
       "    <tr>\n",
       "      <th>18</th>\n",
       "      <td>4</td>\n",
       "      <td>2015-07-08 06:59:04</td>\n",
       "      <td>54</td>\n",
       "    </tr>\n",
       "    <tr>\n",
       "      <th>19</th>\n",
       "      <td>4</td>\n",
       "      <td>2015-07-08 06:59:04</td>\n",
       "      <td>55</td>\n",
       "    </tr>\n",
       "    <tr>\n",
       "      <th>20</th>\n",
       "      <td>5</td>\n",
       "      <td>2015-07-22 08:16:24</td>\n",
       "      <td>409</td>\n",
       "    </tr>\n",
       "  </tbody>\n",
       "</table>\n",
       "</div>"
      ],
      "text/plain": [
       "    user_id  order_completed_at  cart\n",
       "16        3 2015-06-18 16:15:33   399\n",
       "17        3 2015-07-04 14:05:22   399\n",
       "18        4 2015-07-08 06:59:04    54\n",
       "19        4 2015-07-08 06:59:04    55\n",
       "20        5 2015-07-22 08:16:24   409"
      ]
     },
     "execution_count": 23,
     "metadata": {},
     "output_type": "execute_result"
    }
   ],
   "source": [
    "data = df.copy()\n",
    "data = data.loc[data['cart'].isin(carts)]\n",
    "data = data.loc[data['user_id'].isin(users)]\n",
    "print(\"Количество записей в получившемся датафрейме:\", data.shape[0])\n",
    "data.head()"
   ]
  },
  {
   "cell_type": "code",
   "execution_count": 25,
   "id": "4f056cda",
   "metadata": {},
   "outputs": [],
   "source": [
    "data['id_user_id'] = data['user_id'].astype(\"category\").cat.codes\n",
    "data['id_items'] = data['cart'].astype(\"category\").cat.codes"
   ]
  },
  {
   "cell_type": "code",
   "execution_count": 26,
   "id": "0ca44fe3",
   "metadata": {},
   "outputs": [
    {
     "data": {
      "text/html": [
       "<div>\n",
       "<style scoped>\n",
       "    .dataframe tbody tr th:only-of-type {\n",
       "        vertical-align: middle;\n",
       "    }\n",
       "\n",
       "    .dataframe tbody tr th {\n",
       "        vertical-align: top;\n",
       "    }\n",
       "\n",
       "    .dataframe thead th {\n",
       "        text-align: right;\n",
       "    }\n",
       "</style>\n",
       "<table border=\"1\" class=\"dataframe\">\n",
       "  <thead>\n",
       "    <tr style=\"text-align: right;\">\n",
       "      <th></th>\n",
       "      <th>user_id</th>\n",
       "      <th>order_completed_at</th>\n",
       "      <th>cart</th>\n",
       "      <th>id_user_id</th>\n",
       "      <th>id_items</th>\n",
       "    </tr>\n",
       "  </thead>\n",
       "  <tbody>\n",
       "    <tr>\n",
       "      <th>16</th>\n",
       "      <td>3</td>\n",
       "      <td>2015-06-18 16:15:33</td>\n",
       "      <td>399</td>\n",
       "      <td>2</td>\n",
       "      <td>394</td>\n",
       "    </tr>\n",
       "    <tr>\n",
       "      <th>17</th>\n",
       "      <td>3</td>\n",
       "      <td>2015-07-04 14:05:22</td>\n",
       "      <td>399</td>\n",
       "      <td>2</td>\n",
       "      <td>394</td>\n",
       "    </tr>\n",
       "    <tr>\n",
       "      <th>18</th>\n",
       "      <td>4</td>\n",
       "      <td>2015-07-08 06:59:04</td>\n",
       "      <td>54</td>\n",
       "      <td>3</td>\n",
       "      <td>53</td>\n",
       "    </tr>\n",
       "    <tr>\n",
       "      <th>19</th>\n",
       "      <td>4</td>\n",
       "      <td>2015-07-08 06:59:04</td>\n",
       "      <td>55</td>\n",
       "      <td>3</td>\n",
       "      <td>54</td>\n",
       "    </tr>\n",
       "    <tr>\n",
       "      <th>20</th>\n",
       "      <td>5</td>\n",
       "      <td>2015-07-22 08:16:24</td>\n",
       "      <td>409</td>\n",
       "      <td>4</td>\n",
       "      <td>404</td>\n",
       "    </tr>\n",
       "  </tbody>\n",
       "</table>\n",
       "</div>"
      ],
      "text/plain": [
       "    user_id  order_completed_at  cart  id_user_id  id_items\n",
       "16        3 2015-06-18 16:15:33   399           2       394\n",
       "17        3 2015-07-04 14:05:22   399           2       394\n",
       "18        4 2015-07-08 06:59:04    54           3        53\n",
       "19        4 2015-07-08 06:59:04    55           3        54\n",
       "20        5 2015-07-22 08:16:24   409           4       404"
      ]
     },
     "execution_count": 26,
     "metadata": {},
     "output_type": "execute_result"
    }
   ],
   "source": [
    "data.head()"
   ]
  },
  {
   "cell_type": "code",
   "execution_count": 27,
   "id": "8a84ab5d",
   "metadata": {},
   "outputs": [],
   "source": [
    "data = data.groupby(['user_id', 'cart', 'id_user_id', 'id_items'], as_index=False).order_completed_at.count()\n",
    "data = data.rename({'order_completed_at':'count_in_order'}, axis='columns')"
   ]
  },
  {
   "cell_type": "code",
   "execution_count": 28,
   "id": "dd1e151a",
   "metadata": {},
   "outputs": [],
   "source": [
    "from sklearn.model_selection import train_test_split\n",
    "train_data, test_data, = train_test_split(data, test_size = 0.2,random_state = 12)"
   ]
  },
  {
   "cell_type": "code",
   "execution_count": 29,
   "id": "e86ec621",
   "metadata": {},
   "outputs": [],
   "source": [
    "def get_csr_matrix(data):\n",
    "    \n",
    "    users = list(set(train_data.id_user_id.unique()) | set(test_data.id_user_id.unique()))\n",
    "    items = list(set(train_data.id_items.unique()) | set(test_data.id_items.unique()))\n",
    "\n",
    "    rows = data.id_user_id.astype(int)\n",
    "    cols = data.id_items.astype(int)\n",
    "    \n",
    "    count = list(data.count_in_order)\n",
    "    \n",
    "    return sparse.csr_matrix((count, (rows, cols)), shape=(len(users), len(items)))"
   ]
  },
  {
   "cell_type": "code",
   "execution_count": 30,
   "id": "45b5336f",
   "metadata": {},
   "outputs": [],
   "source": [
    "sparse_train = get_csr_matrix(train_data)\n",
    "sparse_test = get_csr_matrix(test_data)"
   ]
  },
  {
   "cell_type": "code",
   "execution_count": 31,
   "id": "83e5d9d8",
   "metadata": {
    "scrolled": true
   },
   "outputs": [],
   "source": [
    "sparse_data = get_csr_matrix(data)"
   ]
  },
  {
   "cell_type": "code",
   "execution_count": 32,
   "id": "aae8a340",
   "metadata": {
    "scrolled": true
   },
   "outputs": [
    {
     "name": "stdout",
     "output_type": "stream",
     "text": [
      "Размер тренировочной выборки: (13036, 858)\n",
      "Размер тестовой выборки: (13036, 858)\n"
     ]
    }
   ],
   "source": [
    "print(\"Размер тренировочной выборки:\", sparse_train.shape)\n",
    "print(\"Размер тестовой выборки:\", sparse_test.shape)"
   ]
  },
  {
   "cell_type": "markdown",
   "id": "405dced5",
   "metadata": {},
   "source": [
    "## Modeling"
   ]
  },
  {
   "cell_type": "markdown",
   "id": "4706248a",
   "metadata": {
    "papermill": {
     "duration": 0.037724,
     "end_time": "2022-01-26T14:50:17.538301",
     "exception": false,
     "start_time": "2022-01-26T14:50:17.500577",
     "status": "completed"
    },
    "tags": []
   },
   "source": [
    "Инициализируем модель. Я использовал функцию потери «WARP», которая часто обеспечивает лучший вариант производительности в библиотеке LightFM."
   ]
  },
  {
   "cell_type": "code",
   "execution_count": 18,
   "id": "0a0395cb",
   "metadata": {},
   "outputs": [],
   "source": [
    "from lightfm.evaluation import precision_at_k\n",
    "from lightfm.evaluation import auc_score"
   ]
  },
  {
   "cell_type": "code",
   "execution_count": 57,
   "id": "89b67ce7",
   "metadata": {},
   "outputs": [],
   "source": [
    "train_score = []\n",
    "test_score = []\n",
    "\n",
    "model = LightFM(no_components=50, learning_rate=0.005, \n",
    "                loss='warp', learning_schedule='adagrad', \n",
    "                item_alpha =1e-03, user_alpha=1e-03)\n",
    "epochs = 10\n",
    "for epoch in range(epochs):\n",
    "    model.fit_partial(sparse_train, epochs=1, num_threads=5)\n",
    "    train_score.append(auc_score(model, sparse_train).mean())\n",
    "    test_score.append(auc_score(model, sparse_test, train_interactions=sparse_train).mean())"
   ]
  },
  {
   "cell_type": "code",
   "execution_count": 58,
   "id": "cda64524",
   "metadata": {},
   "outputs": [
    {
     "data": {
      "image/png": "[encoded data removed]",
      "text/plain": [
       "<Figure size 936x432 with 1 Axes>"
      ]
     },
     "metadata": {
      "needs_background": "light"
     },
     "output_type": "display_data"
    }
   ],
   "source": [
    "x = np.arange(epochs)\n",
    "plt.plot(x, np.array(train_score))\n",
    "plt.plot(x, np.array(test_score))\n",
    "plt.legend(['train', 'test'], loc='upper right')\n",
    "plt.show()"
   ]
  },
  {
   "cell_type": "code",
   "execution_count": 59,
   "id": "23bff455",
   "metadata": {},
   "outputs": [
    {
     "name": "stdout",
     "output_type": "stream",
     "text": [
      "Precision: train 0.65, test 0.16.\n"
     ]
    }
   ],
   "source": [
    "train_precision = precision_at_k(model, sparse_train, k=5).mean()\n",
    "test_precision = precision_at_k(model, sparse_test, k=5).mean()\n",
    "\n",
    "print('Precision: train %.2f, test %.2f.' % (train_precision, test_precision))"
   ]
  },
  {
   "cell_type": "code",
   "execution_count": null,
   "id": "51d02c60",
   "metadata": {},
   "outputs": [],
   "source": []
  },
  {
   "cell_type": "code",
   "execution_count": 323,
   "id": "f406faae",
   "metadata": {},
   "outputs": [
    {
     "data": {
      "text/plain": [
       "0.89152"
      ]
     },
     "execution_count": 323,
     "metadata": {},
     "output_type": "execute_result"
    }
   ],
   "source": [
    "model.fit_partial(sparse_data, epochs=60, num_threads=4)\n",
    "precision_at_k(model, sparse_data).mean()"
   ]
  },
  {
   "cell_type": "markdown",
   "id": "73ce033a",
   "metadata": {
    "papermill": {
     "duration": 0.038008,
     "end_time": "2022-01-26T14:50:26.156872",
     "exception": false,
     "start_time": "2022-01-26T14:50:26.118864",
     "status": "completed"
    },
    "tags": []
   },
   "source": [
    "Теперь необходимо подготовить данные сабмита для передачи их в модель и получение предсказаний. "
   ]
  },
  {
   "cell_type": "code",
   "execution_count": 308,
   "id": "8d66f269",
   "metadata": {},
   "outputs": [
    {
     "data": {
      "application/vnd.jupyter.widget-view+json": {
       "model_id": "a961617acc2841f499be1526e6a9c8c2",
       "version_major": 2,
       "version_minor": 0
      },
      "text/plain": [
       "0it [00:00, ?it/s]"
      ]
     },
     "metadata": {},
     "output_type": "display_data"
    }
   ],
   "source": [
    "# Создаем словари пользователей и категорий\n",
    "\n",
    "from tqdm import tqdm_notebook\n",
    "\n",
    "model.fit_partial(sparse_data, epochs=40, num_threads=4,) \n",
    "\n",
    "for index, (user, cart) in tqdm_notebook(enumerate(zip(users,carts))):\n",
    "    \n",
    "    scores = model.predict(user_ids = np.array([user]), item_ids = np.array([cart]))\n",
    "    \n",
    "    if scores[0] < 0.5:\n",
    "        submit_df['target'][index] = 0\n",
    "    else:\n",
    "        submit_df['target'][index] = 1"
   ]
  },
  {
   "cell_type": "code",
   "execution_count": 309,
   "id": "dbd42803",
   "metadata": {},
   "outputs": [
    {
     "data": {
      "text/html": [
       "<div>\n",
       "<style scoped>\n",
       "    .dataframe tbody tr th:only-of-type {\n",
       "        vertical-align: middle;\n",
       "    }\n",
       "\n",
       "    .dataframe tbody tr th {\n",
       "        vertical-align: top;\n",
       "    }\n",
       "\n",
       "    .dataframe thead th {\n",
       "        text-align: right;\n",
       "    }\n",
       "</style>\n",
       "<table border=\"1\" class=\"dataframe\">\n",
       "  <thead>\n",
       "    <tr style=\"text-align: right;\">\n",
       "      <th></th>\n",
       "      <th>id</th>\n",
       "      <th>target</th>\n",
       "    </tr>\n",
       "  </thead>\n",
       "  <tbody>\n",
       "    <tr>\n",
       "      <th>0</th>\n",
       "      <td>0;133</td>\n",
       "      <td>0</td>\n",
       "    </tr>\n",
       "    <tr>\n",
       "      <th>1</th>\n",
       "      <td>0;5</td>\n",
       "      <td>0</td>\n",
       "    </tr>\n",
       "    <tr>\n",
       "      <th>2</th>\n",
       "      <td>0;10</td>\n",
       "      <td>0</td>\n",
       "    </tr>\n",
       "    <tr>\n",
       "      <th>3</th>\n",
       "      <td>0;396</td>\n",
       "      <td>0</td>\n",
       "    </tr>\n",
       "    <tr>\n",
       "      <th>4</th>\n",
       "      <td>0;14</td>\n",
       "      <td>1</td>\n",
       "    </tr>\n",
       "    <tr>\n",
       "      <th>...</th>\n",
       "      <td>...</td>\n",
       "      <td>...</td>\n",
       "    </tr>\n",
       "    <tr>\n",
       "      <th>790444</th>\n",
       "      <td>19998;26</td>\n",
       "      <td>1</td>\n",
       "    </tr>\n",
       "    <tr>\n",
       "      <th>790445</th>\n",
       "      <td>19998;31</td>\n",
       "      <td>1</td>\n",
       "    </tr>\n",
       "    <tr>\n",
       "      <th>790446</th>\n",
       "      <td>19998;29</td>\n",
       "      <td>1</td>\n",
       "    </tr>\n",
       "    <tr>\n",
       "      <th>790447</th>\n",
       "      <td>19998;798</td>\n",
       "      <td>1</td>\n",
       "    </tr>\n",
       "    <tr>\n",
       "      <th>790448</th>\n",
       "      <td>19998;415</td>\n",
       "      <td>0</td>\n",
       "    </tr>\n",
       "  </tbody>\n",
       "</table>\n",
       "<p>790449 rows × 2 columns</p>\n",
       "</div>"
      ],
      "text/plain": [
       "               id  target\n",
       "0           0;133       0\n",
       "1             0;5       0\n",
       "2            0;10       0\n",
       "3           0;396       0\n",
       "4            0;14       1\n",
       "...           ...     ...\n",
       "790444   19998;26       1\n",
       "790445   19998;31       1\n",
       "790446   19998;29       1\n",
       "790447  19998;798       1\n",
       "790448  19998;415       0\n",
       "\n",
       "[790449 rows x 2 columns]"
      ]
     },
     "execution_count": 309,
     "metadata": {},
     "output_type": "execute_result"
    }
   ],
   "source": [
    "submit_df"
   ]
  },
  {
   "cell_type": "code",
   "execution_count": 310,
   "id": "5fb87a78",
   "metadata": {
    "execution": {
     "iopub.execute_input": "2022-01-26T14:50:32.684916Z",
     "iopub.status.busy": "2022-01-26T14:50:32.684268Z",
     "iopub.status.idle": "2022-01-26T14:50:34.228827Z",
     "shell.execute_reply": "2022-01-26T14:50:34.228185Z",
     "shell.execute_reply.started": "2022-01-26T14:26:47.906230Z"
    },
    "papermill": {
     "duration": 1.587343,
     "end_time": "2022-01-26T14:50:34.228984",
     "exception": false,
     "start_time": "2022-01-26T14:50:32.641641",
     "status": "completed"
    },
    "tags": []
   },
   "outputs": [],
   "source": [
    "submit_df.to_csv('submit.csv', sep=',', index=False)"
   ]
  },
  {
   "cell_type": "code",
   "execution_count": null,
   "id": "0832418d",
   "metadata": {},
   "outputs": [],
   "source": []
  }
 ],
 "metadata": {
  "kernelspec": {
   "display_name": "Python 3",
   "language": "python",
   "name": "python3"
  },
  "language_info": {
   "codemirror_mode": {
    "name": "ipython",
    "version": 3
   },
   "file_extension": ".py",
   "mimetype": "text/x-python",
   "name": "python",
   "nbconvert_exporter": "python",
   "pygments_lexer": "ipython3",
   "version": "3.8.8"
  },
  "papermill": {
   "default_parameters": {},
   "duration": 192.418091,
   "end_time": "2022-01-26T14:50:35.081884",
   "environment_variables": {},
   "exception": null,
   "input_path": "__notebook__.ipynb",
   "output_path": "__notebook__.ipynb",
   "parameters": {},
   "start_time": "2022-01-26T14:47:22.663793",
   "version": "2.3.3"
  }
 },
 "nbformat": 4,
 "nbformat_minor": 5
}
